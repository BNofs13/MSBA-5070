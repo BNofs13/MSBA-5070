{
  "cells": [
    {
      "cell_type": "markdown",
      "metadata": {
        "id": "view-in-github",
        "colab_type": "text"
      },
      "source": [
        "<a href=\"https://colab.research.google.com/github/BNofs13/MSBA-5070/blob/main/Lesson%207%20problems%202.ipynb\" target=\"_parent\"><img src=\"https://colab.research.google.com/assets/colab-badge.svg\" alt=\"Open In Colab\"/></a>"
      ]
    },
    {
      "cell_type": "markdown",
      "id": "ab2b97cc",
      "metadata": {
        "id": "ab2b97cc"
      },
      "source": [
        "# Python for Data & Analytics<br>\n",
        "## Chapter 9, End of Chapter Programming Problems\n",
        ">- Programming Problems Starting on Page 143 in Groner (2023)\n",
        "\n",
        "\n"
      ]
    },
    {
      "cell_type": "markdown",
      "id": "a8a4b2f9",
      "metadata": {
        "id": "a8a4b2f9"
      },
      "source": [
        "# Problem 1\n",
        "\n",
        "## Country Statistics Lookup—One Measure\n",
        "\n",
        "Assume a program begins with the statement:\n",
        "```\n",
        "popData = {\n",
        "'US': 325.7, 'CA': 36.5, 'MX': 129.2}\n",
        "```\n",
        "\n",
        "Write subsequent statements that (in a loop) prompt the user for a country code (US, CA, or MX), then look up in the above dictionary for the corresponding population value, and display that value.\n",
        "---\n",
        "Example session:\n",
        "```\n",
        "Please enter a country code: CA\n",
        "CA population = 36.5\n",
        "```\n",
        "Your program should handle the cases where a user-entered country code is not found.\n"
      ]
    },
    {
      "cell_type": "code",
      "execution_count": 40,
      "id": "29bcb96c",
      "metadata": {
        "id": "29bcb96c",
        "outputId": "b606a4f5-6f2e-4a76-ce91-3fe0267f0ebd",
        "colab": {
          "base_uri": "https://localhost:8080/"
        }
      },
      "outputs": [
        {
          "name": "stdout",
          "output_type": "stream",
          "text": [
            "Please enter a country code: \n",
            ">US\n",
            "325.7\n",
            ">MI\n",
            "** Not Found **\n",
            ">\n"
          ]
        }
      ],
      "source": [
        "popData = {'US': 325.7, 'CA': 36.5, 'MX': 129.2}\n",
        "\n",
        "print('Please enter a country code: ')\n",
        "\n",
        "user_input = input('>')\n",
        "while user_input != \"\":\n",
        "  if user_input in popData:\n",
        "    population = popData[user_input]\n",
        "    print(population)\n",
        "  else:\n",
        "    print('** Not Found **')\n",
        "  user_input = input('>')"
      ]
    },
    {
      "cell_type": "markdown",
      "id": "ca8cdfed",
      "metadata": {
        "id": "ca8cdfed"
      },
      "source": [
        "# Problem 2\n",
        "## Country Statistics Lookup—Multiple Measures\n",
        "\n",
        "Assume a program begins with the statement:\n",
        "\n",
        "```\n",
        "allData = {\n",
        "'US': {'pop':325.7, 'gdp': 19.39, 'ccy': 'USD', 'fx': 1.0},\n",
        "'CA': {'pop': 36.5, 'gdp': 1.65, 'ccy': 'CAD', 'fx': 1.35},\n",
        "'MX': {'pop':129.2, 'gdp': 1.15, 'ccy': 'MXN', 'fx': 19.68}\n",
        "}\n",
        "```\n",
        "\n",
        "Write subsequent statements that (in a loop) prompt the user for a country code (US, CA, or MX), then prompt for a measure name (pop, gdp, ccy, or fx), then look up in the above dictionary for the corresponding value, and display that value.\n",
        "\n",
        "---\n",
        "Example run:\n",
        "\n",
        "```\n",
        "Please enter a country code: CA\n",
        "Please enter a statistic: pop\n",
        "CA pop = 36.5\n",
        "```\n",
        "Your program should handle the cases where a user-entered country code or measure name is not found."
      ]
    },
    {
      "cell_type": "code",
      "execution_count": null,
      "id": "1c172aca",
      "metadata": {
        "id": "1c172aca"
      },
      "outputs": [],
      "source": []
    },
    {
      "cell_type": "markdown",
      "metadata": {
        "id": "InhP-YFiEr74"
      },
      "source": [
        "# Problem 5\n",
        "## Mode of a List\n",
        "\n",
        "Write a program that prompts the user for a list of numbers and determines the mode of the list. The mode is the value (or values) that occur the most often. For example, the mode of [1, 2, 3, 2] is 2. The mode of [1, 2, 3, 2, 3] is [2, 3]. To solve this problem, use lists and a dictionary.\n",
        "\n",
        "Here are some suggested functions you could define as part of the solution to this problem:\n",
        "\n",
        "1. Build a dictionary of values and their counts\n",
        ">- `def findCounts(alist)`\n",
        "2. Find the largest value of key/value pairs in a dictionary\n",
        ">- `def findMaxCount(adict)`\n",
        "3. Find the keys having a given value\n",
        ">- `def findValuesWithCount(adict, count)`"
      ],
      "id": "InhP-YFiEr74"
    },
    {
      "cell_type": "code",
      "source": [],
      "metadata": {
        "id": "X5Lt7ciZ9QXa"
      },
      "id": "X5Lt7ciZ9QXa",
      "execution_count": null,
      "outputs": []
    },
    {
      "cell_type": "markdown",
      "id": "46b38883",
      "metadata": {
        "id": "46b38883"
      },
      "source": [
        "Code from: Python for Data & Analytics, (c) 2023 Rose River Software, LLC"
      ]
    }
  ],
  "metadata": {
    "kernelspec": {
      "display_name": "Python 3 (ipykernel)",
      "language": "python",
      "name": "python3"
    },
    "language_info": {
      "codemirror_mode": {
        "name": "ipython",
        "version": 3
      },
      "file_extension": ".py",
      "mimetype": "text/x-python",
      "name": "python",
      "nbconvert_exporter": "python",
      "pygments_lexer": "ipython3",
      "version": "3.9.7"
    },
    "colab": {
      "provenance": [],
      "include_colab_link": true
    }
  },
  "nbformat": 4,
  "nbformat_minor": 5
}